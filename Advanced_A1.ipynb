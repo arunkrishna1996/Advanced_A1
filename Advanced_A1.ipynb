{
 "cells": [
  {
   "cell_type": "code",
   "execution_count": 27,
   "id": "0b168299",
   "metadata": {},
   "outputs": [
    {
     "name": "stdout",
     "output_type": "stream",
     "text": [
      "2\n",
      "0\n"
     ]
    }
   ],
   "source": [
    "#1. Write a function that takes a list of lists and returns the value of all of the symbols in it, where each symbol adds or takes something from the total score. Symbol values:\n",
    "\n",
    "def check_score(*args):\n",
    "    s={'#':5,\"O\":3,\"X\":1,\"!\":-1,\"!!\":-3,\"!!!\":-5}\n",
    "    v1=0\n",
    "    for i in args:\n",
    "        for j in i:\n",
    "            for m in j:\n",
    "                for k in s:\n",
    "                    if m==k:\n",
    "                        v1=v1+s[k]\n",
    "    if v1<0:\n",
    "        return 0\n",
    "    else:\n",
    "        return v1\n",
    "            \n",
    "print(check_score([\n",
    "[\"#\", \"!\"],\n",
    "[\"!!\", \"X\"]\n",
    "])) \n",
    "\n",
    "print(check_score([\n",
    "[\"!!!\", \"O\", \"!\"],\n",
    "[\"X\", \"#\", \"!!!\"],\n",
    "[\"!!\", \"X\", \"O\"]\n",
    "]))\n"
   ]
  },
  {
   "cell_type": "code",
   "execution_count": 5,
   "id": "db90b571",
   "metadata": {},
   "outputs": [
    {
     "name": "stdout",
     "output_type": "stream",
     "text": [
      "6\n",
      "84\n",
      "120\n"
     ]
    }
   ],
   "source": [
    "#2.Create a function that takes a variable number of arguments, each argument representing the number of items in a group, and returns the number of permutations (combinations) of items that you could get by taking one item from each group.\n",
    "\n",
    "def combinations(*args):\n",
    "    val=1\n",
    "    for i in args:\n",
    "        val=i*val\n",
    "    return val\n",
    "print(combinations(2, 3))\n",
    "print(combinations(3, 7, 4))\n",
    "print(combinations(2, 3, 4, 5))"
   ]
  },
  {
   "cell_type": "code",
   "execution_count": 7,
   "id": "753fe3aa",
   "metadata": {},
   "outputs": [
    {
     "name": "stdout",
     "output_type": "stream",
     "text": [
      "EDABBIT CHALLENGE= .-...--...-.....--.-......-.-...-...-.--..\n",
      "HELP ME ! = ......-...--.--.-.-.--\n"
     ]
    }
   ],
   "source": [
    "#3.Create a function that takes a string as an argument and returns the Morse code equivalent.\n",
    "char_to_dots = {'A': '.-', 'B': '-...', 'C': '-.-.', 'D': '-..', 'E': '.', 'F': '..-.',\n",
    "'G': '--.', 'H': '....', 'I': '..', 'J': '.---', 'K': '-.-', 'L': '.-..',\n",
    "'M': '--', 'N': '-.', 'O': '---', 'P': '.--.', 'Q': '--.-', 'R': '.-.',\n",
    "'S': '...', 'T': '-', 'U': '..-', 'V': '...-', 'W': '.--', 'X': '-..-',\n",
    "'Y': '-.--', 'Z': '--..', '': '', '0': '-----',\n",
    "'1': '.----', '2': '..---', '3': '...--', '4': '....-', '5': '.....',\n",
    "'6': '-....', '7': '--...', '8': '---..', '9': '----.',\n",
    "'&': '.-...', \"'\": '.----.', '@': '.--.-.', ')': '-.--.-', '(': '-.--.',\n",
    "':': '---...', ',': '--..--', '=': '-...-', '!': '-.-.--', '.': '.-.-.-',\n",
    "'-': '-....-', '+': '.-.-.', '\"': '.-..-.', '?': '..--..', '/': '-..-.'}\n",
    "def encode_morse(*args):\n",
    "    b=\"\"\n",
    "    for i in args:\n",
    "        for j in i:\n",
    "            for k in char_to_dots:\n",
    "                if j==k:\n",
    "                    b=b+str(char_to_dots[k])\n",
    "    return b\n",
    "\n",
    "a=encode_morse(\"EDABBIT CHALLENGE\")\n",
    "print(\"EDABBIT CHALLENGE=\",a)\n",
    "b=encode_morse(\"HELP ME !\")\n",
    "print(\"HELP ME ! =\",b)"
   ]
  },
  {
   "cell_type": "code",
   "execution_count": 15,
   "id": "88321364",
   "metadata": {},
   "outputs": [
    {
     "name": "stdout",
     "output_type": "stream",
     "text": [
      "prime(7) = True\n",
      "prime(56963) = True\n",
      "prime(5151512515524) = False\n"
     ]
    }
   ],
   "source": [
    "#4.  Write a function that takes a number and returns True if it's a prime; False otherwise. The number can be 2^64-1 (2 to the power of 63, not XOR). With the standard technique it would be O(2^64-1), which is much too large for the 10 second time limit.\n",
    "def prime(a):\n",
    "    if a==2:\n",
    "        return True\n",
    "    for i in range(2,a):\n",
    "        if a%i==0:\n",
    "            return False\n",
    "    else:\n",
    "        return True\n",
    "a=prime(7)\n",
    "print(\"prime(7) =\",a)\n",
    "\n",
    "b=prime(56963) \n",
    "\n",
    "print(\"prime(56963) =\",b)\n",
    "\n",
    "c=prime(5151512515524)\n",
    "\n",
    "print(\"prime(5151512515524) =\",c)"
   ]
  },
  {
   "cell_type": "code",
   "execution_count": 17,
   "id": "15fef66d",
   "metadata": {},
   "outputs": [
    {
     "name": "stdout",
     "output_type": "stream",
     "text": [
      "loves [False, True, False, True, True]\n",
      "tesh [False, True, True, False]\n"
     ]
    }
   ],
   "source": [
    "#5.  Create a function that converts a word to a bitstring and then to a boolean list based on the following criteria:\n",
    "\n",
    "#1. Locate the position of the letter in the English alphabet (from 1 to 26).\n",
    "#2. Odd positions will be represented as 1 and 0 otherwise.\n",
    "#3. Convert the represented positions to boolean values, 1 for True and 0 for False.\n",
    "#4. Store the conversions into an array.\n",
    "alpha={'a': 1, 'c': 3, 'b': 2, 'e': 5, 'd': 4, 'g': 7, 'f': 6, 'i': 9, 'h': 8, 'k': 11, 'j': 10, 'm': 13, 'l': 12, 'o': 15, 'n': 14, 'q': 17, 'p': 16, 's': 19, 'r': 18, 'u': 21, 't': 20, 'w': 23, 'v': 22, 'y': 25, 'x': 24, 'z': 26}\n",
    "def to_boolean_list(a):\n",
    "    b=a.lower()\n",
    "    l=[]\n",
    "    for i in b:\n",
    "        for j in alpha:\n",
    "            if i==j:\n",
    "                if alpha[j]%2==0:\n",
    "                    l.append(False)\n",
    "                else:\n",
    "                    l.append(True)\n",
    "    return l\n",
    "\n",
    "b=to_boolean_list(\"loves\")\n",
    "print(\"loves\",b)\n",
    "a=to_boolean_list(\"tesh\")\n",
    "print(\"tesh\",a)"
   ]
  },
  {
   "cell_type": "code",
   "execution_count": null,
   "id": "881301f3",
   "metadata": {},
   "outputs": [],
   "source": []
  }
 ],
 "metadata": {
  "kernelspec": {
   "display_name": "Python 3 (ipykernel)",
   "language": "python",
   "name": "python3"
  },
  "language_info": {
   "codemirror_mode": {
    "name": "ipython",
    "version": 3
   },
   "file_extension": ".py",
   "mimetype": "text/x-python",
   "name": "python",
   "nbconvert_exporter": "python",
   "pygments_lexer": "ipython3",
   "version": "3.9.7"
  }
 },
 "nbformat": 4,
 "nbformat_minor": 5
}
